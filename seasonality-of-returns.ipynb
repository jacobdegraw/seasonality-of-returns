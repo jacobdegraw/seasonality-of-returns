{
 "cells": [
  {
   "cell_type": "code",
   "execution_count": 1,
   "id": "23629182",
   "metadata": {},
   "outputs": [],
   "source": [
    "# Pull data"
   ]
  },
  {
   "cell_type": "code",
   "execution_count": 2,
   "id": "62000b6e",
   "metadata": {},
   "outputs": [],
   "source": [
    "# Do in sample test"
   ]
  },
  {
   "cell_type": "code",
   "execution_count": 3,
   "id": "cc036ab0",
   "metadata": {},
   "outputs": [
    {
     "name": "stdout",
     "output_type": "stream",
     "text": [
      "Can we push to colab?\n"
     ]
    }
   ],
   "source": [
    "print(\"Can we push to colab?\")"
   ]
  },
  {
   "cell_type": "code",
   "execution_count": null,
   "id": "6d3794bf",
   "metadata": {},
   "outputs": [],
   "source": []
  }
 ],
 "metadata": {
  "kernelspec": {
   "display_name": "Python 3 (ipykernel)",
   "language": "python",
   "name": "python3"
  },
  "language_info": {
   "codemirror_mode": {
    "name": "ipython",
    "version": 3
   },
   "file_extension": ".py",
   "mimetype": "text/x-python",
   "name": "python",
   "nbconvert_exporter": "python",
   "pygments_lexer": "ipython3",
   "version": "3.9.7"
  }
 },
 "nbformat": 4,
 "nbformat_minor": 5
}
