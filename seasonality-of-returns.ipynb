{
  "cells": [
    {
      "cell_type": "code",
      "execution_count": null,
      "id": "23629182",
      "metadata": {
        "id": "23629182"
      },
      "outputs": [],
      "source": [
        "# Pull data"
      ]
    },
    {
      "cell_type": "code",
      "execution_count": null,
      "id": "62000b6e",
      "metadata": {
        "id": "62000b6e"
      },
      "outputs": [],
      "source": [
        "# Do in sample test"
      ]
    },
    {
      "cell_type": "code",
      "execution_count": 6,
      "id": "cc036ab0",
      "metadata": {
        "id": "cc036ab0",
        "outputId": "1b8ad27e-de14-4bd4-d72d-39acac681eff",
        "colab": {
          "base_uri": "https://localhost:8080/"
        }
      },
      "outputs": [
        {
          "output_type": "stream",
          "name": "stdout",
          "text": [
            "Push from colab\n"
          ]
        }
      ],
      "source": [
        "print(\"Push from colab\")"
      ]
    },
    {
      "cell_type": "code",
      "execution_count": null,
      "id": "6d3794bf",
      "metadata": {
        "id": "6d3794bf"
      },
      "outputs": [],
      "source": []
    }
  ],
  "metadata": {
    "kernelspec": {
      "display_name": "Python 3 (ipykernel)",
      "language": "python",
      "name": "python3"
    },
    "language_info": {
      "codemirror_mode": {
        "name": "ipython",
        "version": 3
      },
      "file_extension": ".py",
      "mimetype": "text/x-python",
      "name": "python",
      "nbconvert_exporter": "python",
      "pygments_lexer": "ipython3",
      "version": "3.9.7"
    },
    "colab": {
      "provenance": []
    }
  },
  "nbformat": 4,
  "nbformat_minor": 5
}