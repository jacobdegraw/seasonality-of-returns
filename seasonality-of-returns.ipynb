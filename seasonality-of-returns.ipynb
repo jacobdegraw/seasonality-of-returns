{
  "cells": [
    {
      "cell_type": "code",
      "execution_count": 2,
      "id": "1c6339af",
      "metadata": {
        "id": "1c6339af"
      },
      "outputs": [],
      "source": [
        "# Pull data"
      ]
    },
    {
      "cell_type": "code",
      "execution_count": 3,
      "id": "1f650ff8",
      "metadata": {
        "id": "1f650ff8"
      },
      "outputs": [],
      "source": [
        "# Make portfolios with in sample data"
      ]
    },
    {
      "cell_type": "code",
      "execution_count": 4,
      "id": "1a3a4755",
      "metadata": {
        "id": "1a3a4755"
      },
      "outputs": [],
      "source": [
        "# Run tests\n"
      ]
    },
    {
      "cell_type": "code",
      "execution_count": 5,
      "id": "3e7adf6b",
      "metadata": {
        "colab": {
          "base_uri": "https://localhost:8080/"
        },
        "id": "3e7adf6b",
        "outputId": "0f9baf3f-1d2e-4a3f-ec08-cff4f9e8ddc8"
      },
      "outputs": [
        {
          "output_type": "stream",
          "name": "stdout",
          "text": [
            "Colab working?\n"
          ]
        }
      ],
      "source": [
        "print(\"Colab working?\")"
      ]
    }
  ],
  "metadata": {
    "kernelspec": {
      "display_name": "Python 3 (ipykernel)",
      "language": "python",
      "name": "python3"
    },
    "language_info": {
      "codemirror_mode": {
        "name": "ipython",
        "version": 3
      },
      "file_extension": ".py",
      "mimetype": "text/x-python",
      "name": "python",
      "nbconvert_exporter": "python",
      "pygments_lexer": "ipython3",
      "version": "3.9.7"
    },
    "colab": {
      "provenance": []
    }
  },
  "nbformat": 4,
  "nbformat_minor": 5
}